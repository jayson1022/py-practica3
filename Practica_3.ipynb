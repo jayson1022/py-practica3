{
 "cells": [
  {
   "cell_type": "markdown",
   "id": "241b2373",
   "metadata": {},
   "source": [
    "# <center>Práctica 3<center>\n",
    "\n",
    "Objetivo:\n",
    "El objetivo de esta práctica es familiarizarte con los diferentes tipos de datos en Python y cómo trabajar con ellos."
   ]
  },
  {
   "cell_type": "markdown",
   "id": "63f9e2f6",
   "metadata": {},
   "source": [
    "jayson rosario  lopez 18-1597\n",
    "\n",
    "## 1- Escribe una breve descripción de los Tipos de Objetos y Estructuras de Datos que se muestran a continuación: \n",
    "\n",
    "* #### Number \n",
    "Los números en Python se dividen en varias categorías:\n",
    "- **Enteros (`int`)**: Representan números enteros sin parte decimal, por ejemplo, `3`, `-5`, `100`.\n",
    "- **Flotantes (`float`)**: Representan números con punto decimal, por ejemplo, `3.14`, `-2.7`, `0.001`.\n",
    "- **Números complejos (`complex`)**: Representan números con una parte real e imaginaria, por ejemplo, `3 + 4j`, donde `j` es la unidad imaginaria.\n",
    "* #### String\n",
    "Una cadena de texto o `string` es una secuencia de caracteres encerrados entre comillas simples (`'...'`) o dobles (`\"...\"`). Son inmutables, lo que significa que no pueden ser cambiadas después de su creación. Ejemplo: `\"Hola, Mundo!\"`, `'Python es genial'`.\n",
    "* #### List\n",
    "Una lista es una colección ordenada y mutable de elementos, que puede contener elementos de diferentes tipos. Se define usando corchetes (`[ ]`) y los elementos están separados por comas. Ejemplo: `[1, 2, 3, 'a', 'b', 'c']`.\n",
    "* #### Set\n",
    "Un conjunto (`set`) es una colección desordenada de elementos únicos. Se define usando llaves (`{ }`) o la función `set()`. No permite elementos duplicados. Ejemplo: `{1, 2, 3, 4}`, `set([1, 2, 3, 4])`.\n",
    "* #### Tuple\n",
    "Una tupla es similar a una lista, pero es inmutable, lo que significa que una vez creada, no puede ser modificada. Se define usando paréntesis (`( )`). Ejemplo: `(1, 2, 3, 'a', 'b', 'c')`.\n",
    "* #### Dictionarie\n",
    "Un diccionario es una colección de pares clave-valor, donde cada clave es única y se utiliza para almacenar y acceder a valores. Se define usando llaves (`{ }`) y los pares clave-valor están separados por comas, con una clave y su valor separados por dos puntos (`:`). Ejemplo: `{'nombre': 'Juan', 'edad': 30, 'ciudad': 'Madrid'}`.\n"
   ]
  },
  {
   "cell_type": "markdown",
   "id": "ee520963",
   "metadata": {},
   "source": [
    "## 2- Cúal es la diferencia entre List, Tuple y Set?"
   ]
  },
  {
   "cell_type": "markdown",
   "id": "60f5e569",
   "metadata": {},
   "source": []
  },
  {
   "cell_type": "markdown",
   "id": "fcebd351",
   "metadata": {},
   "source": [
    "Las listas, tuplas y conjuntos en Python son estructuras de datos que tienen diferentes características y usos. Aquí se detallan sus diferencias:\n",
    "\n",
    "### List (Lista)\n",
    "- **Orden**: Las listas son colecciones ordenadas de elementos.\n",
    "- **Mutabilidad**: Las listas son mutables, lo que significa que sus elementos se pueden modificar después de su creación.\n",
    "- **Duplicados**: Las listas permiten elementos duplicados.\n",
    "- **Sintaxis**: Se definen usando corchetes `[ ]`.\n",
    "- **Ejemplo**: `[1, 2, 3, 4, 5]`\n",
    "\n",
    "### Tuple (Tupla)\n",
    "- **Orden**: Las tuplas son colecciones ordenadas de elementos.\n",
    "- **Mutabilidad**: Las tuplas son inmutables, lo que significa que una vez creadas, no se pueden modificar.\n",
    "- **Duplicados**: Las tuplas permiten elementos duplicados.\n",
    "- **Sintaxis**: Se definen usando paréntesis `( )`.\n",
    "- **Ejemplo**: `(1, 2, 3, 4, 5)`\n",
    "\n",
    "### Set (Conjunto)\n",
    "- **Orden**: Los conjuntos son colecciones desordenadas de elementos.\n",
    "- **Mutabilidad**: Los conjuntos son mutables, pero sus elementos deben ser inmutables. Hay también conjuntos inmutables (`frozenset`).\n",
    "- **Duplicados**: Los conjuntos no permiten elementos duplicados.\n",
    "- **Sintaxis**: Se definen usando llaves `{ }` o la función `set()`.\n",
    "- **Ejemplo**: `{1, 2, 3, 4, 5}`\n",
    "\n",
    "\n",
    "Estas diferencias determinan cómo y cuándo usar cada una de estas estructuras de datos en Python según el contexto de la aplicación."
   ]
  },
  {
   "cell_type": "markdown",
   "id": "94c4c67d",
   "metadata": {},
   "source": [
    "## 3- Crea una lista que contenga números enteros y flotantes e imprimela\n"
   ]
  },
  {
   "cell_type": "markdown",
   "id": "5d8ad204",
   "metadata": {},
   "source": []
  },
  {
   "cell_type": "code",
   "execution_count": null,
   "id": "b54bc01e",
   "metadata": {},
   "outputs": [],
   "source": [
    "# Crear una lista con números enteros y flotantes\n",
    "numeros = [1, 2.5, 3, 4.75, 5, 6.0]\n",
    "\n",
    "# Imprimir la lista\n",
    "print(numeros)\n"
   ]
  },
  {
   "cell_type": "markdown",
   "id": "943c13a1",
   "metadata": {},
   "source": [
    "## 4- Crea una tupla que contenga algunos Strings e imprimela"
   ]
  },
  {
   "cell_type": "code",
   "execution_count": null,
   "id": "4ce63ffb",
   "metadata": {},
   "outputs": [],
   "source": [
    "# Crear una tupla con strings\n",
    "frutas = (\"manzana\", \"banana\", \"cereza\", \"durazno\")\n",
    "\n",
    "# Imprimir la tupla\n",
    "print(frutas)\n"
   ]
  },
  {
   "cell_type": "markdown",
   "id": "66cc1b05",
   "metadata": {},
   "source": [
    "## 5- Crea un diccionario que tenga como claves algunas de las cadenas de la tupla creada antes y como valores algunos de los números de la lista creada antes e imprime"
   ]
  },
  {
   "cell_type": "code",
   "execution_count": null,
   "id": "e48aaca3",
   "metadata": {},
   "outputs": [],
   "source": [
    "# Tupla de cadenas\n",
    "frutas = (\"manzana\", \"banana\", \"cereza\", \"durazno\")\n",
    "\n",
    "# Lista de números\n",
    "numeros = [1, 2.5, 3, 4.75, 5, 6.0]\n",
    "\n",
    "# Crear un diccionario con claves de la tupla y valores de la lista\n",
    "frutas_numeros = {\n",
    "    frutas[0]: numeros[0],\n",
    "    frutas[1]: numeros[1],\n",
    "    frutas[2]: numeros[2],\n",
    "    frutas[3]: numeros[3]\n",
    "}\n",
    "\n",
    "# Imprimir el diccionario\n",
    "print(frutas_numeros)\n"
   ]
  },
  {
   "cell_type": "markdown",
   "id": "020fab64",
   "metadata": {},
   "source": [
    "## 6- Escribe una ecuación de como resultado 150,75 utilizando la multiplicación, la división, la potencia, la raíz cuadrada, la suma y la resta "
   ]
  },
  {
   "cell_type": "code",
   "execution_count": null,
   "id": "c76f4670",
   "metadata": {},
   "outputs": [],
   "source": [
    "import math\n",
    "\n",
    "# Calcular el resultado usando diferentes operaciones\n",
    "resultado = (10 * 3.5) + (50 / 2) - math.sqrt(49) + (2 ** 3)\n",
    "\n",
    "# Imprimir el resultado\n",
    "print(resultado)\n"
   ]
  },
  {
   "cell_type": "markdown",
   "id": "f325a5d7",
   "metadata": {},
   "source": [
    "## 7- Añade un número al listado creado en el punto 3"
   ]
  },
  {
   "cell_type": "code",
   "execution_count": null,
   "id": "7d886a09",
   "metadata": {},
   "outputs": [],
   "source": [
    "# Crear una lista con números enteros y flotantes\n",
    "numeros = [1, 2.5, 3, 4.75, 5]\n",
    "\n",
    "# Imprimir la lista original\n",
    "print(\"Lista original:\", numeros)\n",
    "\n",
    "# Agregar un número a la lista\n",
    "nuevo_numero = 6.5\n",
    "numeros.append(nuevo_numero)\n",
    "\n",
    "# Imprimir la lista actualizada\n",
    "print(\"Lista actualizada:\", numeros)\n"
   ]
  },
  {
   "cell_type": "markdown",
   "id": "65fc6d3e",
   "metadata": {},
   "source": [
    "## 8- Convierte el listado anterior en un set e imprimelo"
   ]
  },
  {
   "cell_type": "code",
   "execution_count": null,
   "id": "0e3e5e0e",
   "metadata": {},
   "outputs": [],
   "source": [
    "# Crear una lista que contiene números enteros y flotantes\n",
    "numeros = [1, 2.5, 3, 4.75, 5]\n",
    "\n",
    "# Imprimir la lista original\n",
    "print(\"Lista original:\", numeros)\n",
    "\n",
    "# Agregar un número a la lista\n",
    "numeros.append(6.25)\n",
    "\n",
    "# Convertir la lista a un set\n",
    "numeros_set = set(numeros)\n",
    "\n",
    "# Imprimir el set resultante\n",
    "print(\"Set resultante:\", numeros_set)\n"
   ]
  },
  {
   "cell_type": "markdown",
   "id": "ea5d9aed",
   "metadata": {},
   "source": [
    "## 9- Utiliza los index y las llaves para acceder e imprimir \"hola\" del siguiente diccionario:"
   ]
  },
  {
   "cell_type": "code",
   "execution_count": null,
   "id": "4e3535d0",
   "metadata": {},
   "outputs": [],
   "source": [
    "d = {'c1':[4,1,{'c2':['es otro listado',{'0':[3,1,['hola']]}]}]}\n",
    "# Definir el diccionario\n",
    "# Acceder al valor \"hola\"\n",
    "valor_hola = d['c1'][2]['c2'][1]['0'][2][0]\n",
    "\n",
    "# Imprimir el valor\n",
    "print(valor_hola)\n"
   ]
  },
  {
   "cell_type": "markdown",
   "id": "58aad6b7",
   "metadata": {},
   "source": [
    "## 10- Basado en el diccionario anterior, que resultado arroja la siguiente expresión?\n",
    "d['c1'][0] > d['c1'][2]['c2'][1]['0'][0]"
   ]
  },
  {
   "cell_type": "code",
   "execution_count": null,
   "id": "cd9b3545",
   "metadata": {},
   "outputs": [],
   "source": [
    "resultado = d['c1'][0] > d['c1'][2]['c2'][1]['0'][0]\n",
    "print(resultado)  # Salida: True\n"
   ]
  }
 ],
 "metadata": {
  "kernelspec": {
   "display_name": "Python 3 (ipykernel)",
   "language": "python",
   "name": "python3"
  },
  "language_info": {
   "codemirror_mode": {
    "name": "ipython",
    "version": 3
   },
   "file_extension": ".py",
   "mimetype": "text/x-python",
   "name": "python",
   "nbconvert_exporter": "python",
   "pygments_lexer": "ipython3",
   "version": "3.11.7"
  }
 },
 "nbformat": 4,
 "nbformat_minor": 5
}
